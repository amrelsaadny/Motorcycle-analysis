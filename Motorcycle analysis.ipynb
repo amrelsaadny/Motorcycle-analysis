{
 "cells": [
  {
   "cell_type": "code",
   "execution_count": 1,
   "id": "7628ff9f",
   "metadata": {},
   "outputs": [],
   "source": [
    "import numpy as np\n",
    "import pandas as pd\n",
    "import matplotlib.pyplot as plt\n",
    "import seaborn as sns "
   ]
  },
  {
   "cell_type": "code",
   "execution_count": 18,
   "id": "6d3f4043",
   "metadata": {},
   "outputs": [
    {
     "name": "stderr",
     "output_type": "stream",
     "text": [
      "C:\\Users\\amr\\anaconda3\\lib\\site-packages\\IPython\\core\\interactiveshell.py:3165: DtypeWarning: Columns (12) have mixed types.Specify dtype option on import or set low_memory=False.\n",
      "  has_raised = await self.run_ast_nodes(code_ast.body, cell_name,\n"
     ]
    }
   ],
   "source": [
    "df=pd.read_csv(\"all_bikez_curated.csv\")"
   ]
  },
  {
   "cell_type": "code",
   "execution_count": 20,
   "id": "92df4cdb",
   "metadata": {},
   "outputs": [
    {
     "data": {
      "text/html": [
       "<div>\n",
       "<style scoped>\n",
       "    .dataframe tbody tr th:only-of-type {\n",
       "        vertical-align: middle;\n",
       "    }\n",
       "\n",
       "    .dataframe tbody tr th {\n",
       "        vertical-align: top;\n",
       "    }\n",
       "\n",
       "    .dataframe thead th {\n",
       "        text-align: right;\n",
       "    }\n",
       "</style>\n",
       "<table border=\"1\" class=\"dataframe\">\n",
       "  <thead>\n",
       "    <tr style=\"text-align: right;\">\n",
       "      <th></th>\n",
       "      <th>Brand</th>\n",
       "      <th>Model</th>\n",
       "      <th>Year</th>\n",
       "      <th>Category</th>\n",
       "      <th>Rating</th>\n",
       "      <th>Displacement (ccm)</th>\n",
       "      <th>Power (hp)</th>\n",
       "      <th>Torque (Nm)</th>\n",
       "      <th>Engine cylinder</th>\n",
       "      <th>Engine stroke</th>\n",
       "      <th>...</th>\n",
       "      <th>Dry weight (kg)</th>\n",
       "      <th>Wheelbase (mm)</th>\n",
       "      <th>Seat height (mm)</th>\n",
       "      <th>Front brakes</th>\n",
       "      <th>Rear brakes</th>\n",
       "      <th>Front tire</th>\n",
       "      <th>Rear tire</th>\n",
       "      <th>Front suspension</th>\n",
       "      <th>Rear suspension</th>\n",
       "      <th>Color options</th>\n",
       "    </tr>\n",
       "  </thead>\n",
       "  <tbody>\n",
       "    <tr>\n",
       "      <th>0</th>\n",
       "      <td>acabion</td>\n",
       "      <td>da vinci 650-vi</td>\n",
       "      <td>2011</td>\n",
       "      <td>Prototype / concept model</td>\n",
       "      <td>3.2</td>\n",
       "      <td>NaN</td>\n",
       "      <td>804.0</td>\n",
       "      <td>NaN</td>\n",
       "      <td>Electric</td>\n",
       "      <td>Electric</td>\n",
       "      <td>...</td>\n",
       "      <td>420.0</td>\n",
       "      <td>NaN</td>\n",
       "      <td>NaN</td>\n",
       "      <td>Single disc</td>\n",
       "      <td>Single disc</td>\n",
       "      <td>NaN</td>\n",
       "      <td>NaN</td>\n",
       "      <td>NaN</td>\n",
       "      <td>NaN</td>\n",
       "      <td>NaN</td>\n",
       "    </tr>\n",
       "    <tr>\n",
       "      <th>1</th>\n",
       "      <td>acabion</td>\n",
       "      <td>gtbo 55</td>\n",
       "      <td>2007</td>\n",
       "      <td>Sport</td>\n",
       "      <td>2.6</td>\n",
       "      <td>1300.0</td>\n",
       "      <td>541.0</td>\n",
       "      <td>420.0</td>\n",
       "      <td>In-line four</td>\n",
       "      <td>four-stroke</td>\n",
       "      <td>...</td>\n",
       "      <td>360.0</td>\n",
       "      <td>NaN</td>\n",
       "      <td>NaN</td>\n",
       "      <td>NaN</td>\n",
       "      <td>NaN</td>\n",
       "      <td>NaN</td>\n",
       "      <td>NaN</td>\n",
       "      <td>NaN</td>\n",
       "      <td>NaN</td>\n",
       "      <td>NaN</td>\n",
       "    </tr>\n",
       "    <tr>\n",
       "      <th>2</th>\n",
       "      <td>acabion</td>\n",
       "      <td>gtbo 600 daytona-vi</td>\n",
       "      <td>2011</td>\n",
       "      <td>Prototype / concept model</td>\n",
       "      <td>3.5</td>\n",
       "      <td>NaN</td>\n",
       "      <td>536.0</td>\n",
       "      <td>NaN</td>\n",
       "      <td>Electric</td>\n",
       "      <td>Electric</td>\n",
       "      <td>...</td>\n",
       "      <td>420.0</td>\n",
       "      <td>NaN</td>\n",
       "      <td>NaN</td>\n",
       "      <td>Single disc</td>\n",
       "      <td>Single disc</td>\n",
       "      <td>NaN</td>\n",
       "      <td>NaN</td>\n",
       "      <td>NaN</td>\n",
       "      <td>NaN</td>\n",
       "      <td>NaN</td>\n",
       "    </tr>\n",
       "    <tr>\n",
       "      <th>3</th>\n",
       "      <td>acabion</td>\n",
       "      <td>gtbo 600 daytona-vi</td>\n",
       "      <td>2021</td>\n",
       "      <td>Prototype / concept model</td>\n",
       "      <td>NaN</td>\n",
       "      <td>NaN</td>\n",
       "      <td>536.0</td>\n",
       "      <td>NaN</td>\n",
       "      <td>Electric</td>\n",
       "      <td>Electric</td>\n",
       "      <td>...</td>\n",
       "      <td>420.0</td>\n",
       "      <td>NaN</td>\n",
       "      <td>NaN</td>\n",
       "      <td>Single disc</td>\n",
       "      <td>Single disc</td>\n",
       "      <td>NaN</td>\n",
       "      <td>NaN</td>\n",
       "      <td>NaN</td>\n",
       "      <td>NaN</td>\n",
       "      <td>NaN</td>\n",
       "    </tr>\n",
       "    <tr>\n",
       "      <th>4</th>\n",
       "      <td>acabion</td>\n",
       "      <td>gtbo 70</td>\n",
       "      <td>2007</td>\n",
       "      <td>Prototype / concept model</td>\n",
       "      <td>3.1</td>\n",
       "      <td>1300.0</td>\n",
       "      <td>689.0</td>\n",
       "      <td>490.0</td>\n",
       "      <td>In-line four</td>\n",
       "      <td>four-stroke</td>\n",
       "      <td>...</td>\n",
       "      <td>300.0</td>\n",
       "      <td>NaN</td>\n",
       "      <td>NaN</td>\n",
       "      <td>NaN</td>\n",
       "      <td>NaN</td>\n",
       "      <td>NaN</td>\n",
       "      <td>NaN</td>\n",
       "      <td>NaN</td>\n",
       "      <td>NaN</td>\n",
       "      <td>Custom made.</td>\n",
       "    </tr>\n",
       "    <tr>\n",
       "      <th>...</th>\n",
       "      <td>...</td>\n",
       "      <td>...</td>\n",
       "      <td>...</td>\n",
       "      <td>...</td>\n",
       "      <td>...</td>\n",
       "      <td>...</td>\n",
       "      <td>...</td>\n",
       "      <td>...</td>\n",
       "      <td>...</td>\n",
       "      <td>...</td>\n",
       "      <td>...</td>\n",
       "      <td>...</td>\n",
       "      <td>...</td>\n",
       "      <td>...</td>\n",
       "      <td>...</td>\n",
       "      <td>...</td>\n",
       "      <td>...</td>\n",
       "      <td>...</td>\n",
       "      <td>...</td>\n",
       "      <td>...</td>\n",
       "      <td>...</td>\n",
       "    </tr>\n",
       "    <tr>\n",
       "      <th>38467</th>\n",
       "      <td>zündapp</td>\n",
       "      <td>z 22</td>\n",
       "      <td>1924</td>\n",
       "      <td>Sport</td>\n",
       "      <td>NaN</td>\n",
       "      <td>211.0</td>\n",
       "      <td>2.3</td>\n",
       "      <td>NaN</td>\n",
       "      <td>Single cylinder</td>\n",
       "      <td>two-stroke</td>\n",
       "      <td>...</td>\n",
       "      <td>NaN</td>\n",
       "      <td>NaN</td>\n",
       "      <td>NaN</td>\n",
       "      <td>NaN</td>\n",
       "      <td>NaN</td>\n",
       "      <td>2.25-24</td>\n",
       "      <td>2.25-24</td>\n",
       "      <td>Druid  fork</td>\n",
       "      <td>Rigid</td>\n",
       "      <td>NaN</td>\n",
       "    </tr>\n",
       "    <tr>\n",
       "      <th>38468</th>\n",
       "      <td>zündapp</td>\n",
       "      <td>z 249</td>\n",
       "      <td>1923</td>\n",
       "      <td>Sport</td>\n",
       "      <td>NaN</td>\n",
       "      <td>249.0</td>\n",
       "      <td>2.8</td>\n",
       "      <td>NaN</td>\n",
       "      <td>Single cylinder</td>\n",
       "      <td>two-stroke</td>\n",
       "      <td>...</td>\n",
       "      <td>76.0</td>\n",
       "      <td>NaN</td>\n",
       "      <td>NaN</td>\n",
       "      <td>Expanding brake (drum brake)</td>\n",
       "      <td>Expanding brake (drum brake)</td>\n",
       "      <td>2.25-24</td>\n",
       "      <td>2.25-24</td>\n",
       "      <td>Druid  fork</td>\n",
       "      <td>Rigid</td>\n",
       "      <td>NaN</td>\n",
       "    </tr>\n",
       "    <tr>\n",
       "      <th>38469</th>\n",
       "      <td>zündapp</td>\n",
       "      <td>z 249</td>\n",
       "      <td>1924</td>\n",
       "      <td>Sport</td>\n",
       "      <td>NaN</td>\n",
       "      <td>249.0</td>\n",
       "      <td>2.8</td>\n",
       "      <td>NaN</td>\n",
       "      <td>Single cylinder</td>\n",
       "      <td>two-stroke</td>\n",
       "      <td>...</td>\n",
       "      <td>76.0</td>\n",
       "      <td>NaN</td>\n",
       "      <td>NaN</td>\n",
       "      <td>Expanding brake (drum brake)</td>\n",
       "      <td>Expanding brake (drum brake)</td>\n",
       "      <td>2.25-24</td>\n",
       "      <td>2.25-24</td>\n",
       "      <td>Druid  fork</td>\n",
       "      <td>Rigid</td>\n",
       "      <td>NaN</td>\n",
       "    </tr>\n",
       "    <tr>\n",
       "      <th>38470</th>\n",
       "      <td>zündapp</td>\n",
       "      <td>z 300</td>\n",
       "      <td>1928</td>\n",
       "      <td>Sport</td>\n",
       "      <td>NaN</td>\n",
       "      <td>298.0</td>\n",
       "      <td>26.0</td>\n",
       "      <td>NaN</td>\n",
       "      <td>Single cylinder</td>\n",
       "      <td>two-stroke</td>\n",
       "      <td>...</td>\n",
       "      <td>105.0</td>\n",
       "      <td>NaN</td>\n",
       "      <td>NaN</td>\n",
       "      <td>Expanding brake (drum brake)</td>\n",
       "      <td>Expanding brake (drum brake)</td>\n",
       "      <td>2.85-26</td>\n",
       "      <td>2.85-26</td>\n",
       "      <td>NaN</td>\n",
       "      <td>NaN</td>\n",
       "      <td>NaN</td>\n",
       "    </tr>\n",
       "    <tr>\n",
       "      <th>38471</th>\n",
       "      <td>zündapp</td>\n",
       "      <td>z 300</td>\n",
       "      <td>1929</td>\n",
       "      <td>Sport</td>\n",
       "      <td>NaN</td>\n",
       "      <td>298.0</td>\n",
       "      <td>26.0</td>\n",
       "      <td>NaN</td>\n",
       "      <td>Single cylinder</td>\n",
       "      <td>two-stroke</td>\n",
       "      <td>...</td>\n",
       "      <td>105.0</td>\n",
       "      <td>NaN</td>\n",
       "      <td>NaN</td>\n",
       "      <td>Expanding brake (drum brake)</td>\n",
       "      <td>Expanding brake (drum brake)</td>\n",
       "      <td>2.85-26</td>\n",
       "      <td>2.85-26</td>\n",
       "      <td>NaN</td>\n",
       "      <td>NaN</td>\n",
       "      <td>NaN</td>\n",
       "    </tr>\n",
       "  </tbody>\n",
       "</table>\n",
       "<p>38472 rows × 28 columns</p>\n",
       "</div>"
      ],
      "text/plain": [
       "         Brand                Model  Year                   Category  Rating  \\\n",
       "0      acabion      da vinci 650-vi  2011  Prototype / concept model     3.2   \n",
       "1      acabion              gtbo 55  2007                      Sport     2.6   \n",
       "2      acabion  gtbo 600 daytona-vi  2011  Prototype / concept model     3.5   \n",
       "3      acabion  gtbo 600 daytona-vi  2021  Prototype / concept model     NaN   \n",
       "4      acabion              gtbo 70  2007  Prototype / concept model     3.1   \n",
       "...        ...                  ...   ...                        ...     ...   \n",
       "38467  zündapp                 z 22  1924                      Sport     NaN   \n",
       "38468  zündapp                z 249  1923                      Sport     NaN   \n",
       "38469  zündapp                z 249  1924                      Sport     NaN   \n",
       "38470  zündapp                z 300  1928                      Sport     NaN   \n",
       "38471  zündapp                z 300  1929                      Sport     NaN   \n",
       "\n",
       "       Displacement (ccm)  Power (hp)  Torque (Nm)  Engine cylinder  \\\n",
       "0                     NaN       804.0          NaN         Electric   \n",
       "1                  1300.0       541.0        420.0     In-line four   \n",
       "2                     NaN       536.0          NaN         Electric   \n",
       "3                     NaN       536.0          NaN         Electric   \n",
       "4                  1300.0       689.0        490.0     In-line four   \n",
       "...                   ...         ...          ...              ...   \n",
       "38467               211.0         2.3          NaN  Single cylinder   \n",
       "38468               249.0         2.8          NaN  Single cylinder   \n",
       "38469               249.0         2.8          NaN  Single cylinder   \n",
       "38470               298.0        26.0          NaN  Single cylinder   \n",
       "38471               298.0        26.0          NaN  Single cylinder   \n",
       "\n",
       "      Engine stroke  ... Dry weight (kg)  Wheelbase (mm) Seat height (mm)  \\\n",
       "0          Electric  ...           420.0             NaN              NaN   \n",
       "1       four-stroke  ...           360.0             NaN              NaN   \n",
       "2          Electric  ...           420.0             NaN              NaN   \n",
       "3          Electric  ...           420.0             NaN              NaN   \n",
       "4       four-stroke  ...           300.0             NaN              NaN   \n",
       "...             ...  ...             ...             ...              ...   \n",
       "38467    two-stroke  ...             NaN             NaN              NaN   \n",
       "38468    two-stroke  ...            76.0             NaN              NaN   \n",
       "38469    two-stroke  ...            76.0             NaN              NaN   \n",
       "38470    two-stroke  ...           105.0             NaN              NaN   \n",
       "38471    two-stroke  ...           105.0             NaN              NaN   \n",
       "\n",
       "                       Front brakes                   Rear brakes Front tire  \\\n",
       "0                       Single disc                   Single disc        NaN   \n",
       "1                               NaN                           NaN        NaN   \n",
       "2                       Single disc                   Single disc        NaN   \n",
       "3                       Single disc                   Single disc        NaN   \n",
       "4                               NaN                           NaN        NaN   \n",
       "...                             ...                           ...        ...   \n",
       "38467                           NaN                           NaN   2.25-24    \n",
       "38468  Expanding brake (drum brake)  Expanding brake (drum brake)   2.25-24    \n",
       "38469  Expanding brake (drum brake)  Expanding brake (drum brake)   2.25-24    \n",
       "38470  Expanding brake (drum brake)  Expanding brake (drum brake)   2.85-26    \n",
       "38471  Expanding brake (drum brake)  Expanding brake (drum brake)   2.85-26    \n",
       "\n",
       "      Rear tire Front suspension  Rear suspension  Color options  \n",
       "0           NaN              NaN              NaN            NaN  \n",
       "1           NaN              NaN              NaN            NaN  \n",
       "2           NaN              NaN              NaN            NaN  \n",
       "3           NaN              NaN              NaN            NaN  \n",
       "4           NaN              NaN              NaN   Custom made.  \n",
       "...         ...              ...              ...            ...  \n",
       "38467  2.25-24       Druid  fork            Rigid            NaN  \n",
       "38468  2.25-24       Druid  fork            Rigid            NaN  \n",
       "38469  2.25-24       Druid  fork            Rigid            NaN  \n",
       "38470  2.85-26               NaN              NaN            NaN  \n",
       "38471  2.85-26               NaN              NaN            NaN  \n",
       "\n",
       "[38472 rows x 28 columns]"
      ]
     },
     "execution_count": 20,
     "metadata": {},
     "output_type": "execute_result"
    }
   ],
   "source": [
    "df"
   ]
  },
  {
   "cell_type": "code",
   "execution_count": 19,
   "id": "06af45e3",
   "metadata": {},
   "outputs": [
    {
     "data": {
      "text/plain": [
       "(38472, 28)"
      ]
     },
     "execution_count": 19,
     "metadata": {},
     "output_type": "execute_result"
    }
   ],
   "source": [
    "df.shape"
   ]
  },
  {
   "cell_type": "code",
   "execution_count": 10,
   "id": "00571886",
   "metadata": {},
   "outputs": [
    {
     "data": {
      "text/plain": [
       "Index(['Brand', 'Model', 'Year', 'Category', 'Rating', 'Displacement (ccm)',\n",
       "       'Power (hp)', 'Torque (Nm)', 'Engine cylinder', 'Engine stroke',\n",
       "       'Gearbox', 'Bore (mm)', 'Stroke (mm)', 'Fuel capacity (lts)',\n",
       "       'Fuel system', 'Fuel control', 'Cooling system', 'Transmission type',\n",
       "       'Dry weight (kg)', 'Wheelbase (mm)', 'Seat height (mm)', 'Front brakes',\n",
       "       'Rear brakes', 'Front tire', 'Rear tire', 'Front suspension',\n",
       "       'Rear suspension', 'Color options'],\n",
       "      dtype='object')"
      ]
     },
     "execution_count": 10,
     "metadata": {},
     "output_type": "execute_result"
    }
   ],
   "source": [
    "df.columns"
   ]
  },
  {
   "cell_type": "code",
   "execution_count": 11,
   "id": "e0e1c891",
   "metadata": {},
   "outputs": [
    {
     "data": {
      "text/plain": [
       "0"
      ]
     },
     "execution_count": 11,
     "metadata": {},
     "output_type": "execute_result"
    }
   ],
   "source": [
    "df.duplicated().sum()"
   ]
  },
  {
   "cell_type": "code",
   "execution_count": 12,
   "id": "cf32f37a",
   "metadata": {},
   "outputs": [
    {
     "name": "stdout",
     "output_type": "stream",
     "text": [
      "<class 'pandas.core.frame.DataFrame'>\n",
      "RangeIndex: 38472 entries, 0 to 38471\n",
      "Data columns (total 28 columns):\n",
      " #   Column               Non-Null Count  Dtype  \n",
      "---  ------               --------------  -----  \n",
      " 0   Brand                38472 non-null  object \n",
      " 1   Model                38444 non-null  object \n",
      " 2   Year                 38472 non-null  int64  \n",
      " 3   Category             38472 non-null  object \n",
      " 4   Rating               21788 non-null  float64\n",
      " 5   Displacement (ccm)   37461 non-null  float64\n",
      " 6   Power (hp)           26110 non-null  float64\n",
      " 7   Torque (Nm)          16634 non-null  float64\n",
      " 8   Engine cylinder      38461 non-null  object \n",
      " 9   Engine stroke        38461 non-null  object \n",
      " 10  Gearbox              32675 non-null  object \n",
      " 11  Bore (mm)            28689 non-null  float64\n",
      " 12  Stroke (mm)          28689 non-null  object \n",
      " 13  Fuel capacity (lts)  31704 non-null  float64\n",
      " 14  Fuel system          27844 non-null  object \n",
      " 15  Fuel control         22008 non-null  object \n",
      " 16  Cooling system       34258 non-null  object \n",
      " 17  Transmission type    32861 non-null  object \n",
      " 18  Dry weight (kg)      22483 non-null  float64\n",
      " 19  Wheelbase (mm)       25493 non-null  float64\n",
      " 20  Seat height (mm)     24182 non-null  float64\n",
      " 21  Front brakes         36889 non-null  object \n",
      " 22  Rear brakes          36696 non-null  object \n",
      " 23  Front tire           31982 non-null  object \n",
      " 24  Rear tire            32008 non-null  object \n",
      " 25  Front suspension     26109 non-null  object \n",
      " 26  Rear suspension      25625 non-null  object \n",
      " 27  Color options        24328 non-null  object \n",
      "dtypes: float64(9), int64(1), object(18)\n",
      "memory usage: 8.2+ MB\n"
     ]
    }
   ],
   "source": [
    "df.info()"
   ]
  },
  {
   "cell_type": "code",
   "execution_count": 13,
   "id": "b65dac19",
   "metadata": {},
   "outputs": [
    {
     "data": {
      "text/html": [
       "<div>\n",
       "<style scoped>\n",
       "    .dataframe tbody tr th:only-of-type {\n",
       "        vertical-align: middle;\n",
       "    }\n",
       "\n",
       "    .dataframe tbody tr th {\n",
       "        vertical-align: top;\n",
       "    }\n",
       "\n",
       "    .dataframe thead th {\n",
       "        text-align: right;\n",
       "    }\n",
       "</style>\n",
       "<table border=\"1\" class=\"dataframe\">\n",
       "  <thead>\n",
       "    <tr style=\"text-align: right;\">\n",
       "      <th></th>\n",
       "      <th>Year</th>\n",
       "      <th>Rating</th>\n",
       "      <th>Displacement (ccm)</th>\n",
       "      <th>Power (hp)</th>\n",
       "      <th>Torque (Nm)</th>\n",
       "      <th>Bore (mm)</th>\n",
       "      <th>Fuel capacity (lts)</th>\n",
       "      <th>Dry weight (kg)</th>\n",
       "      <th>Wheelbase (mm)</th>\n",
       "      <th>Seat height (mm)</th>\n",
       "    </tr>\n",
       "  </thead>\n",
       "  <tbody>\n",
       "    <tr>\n",
       "      <th>count</th>\n",
       "      <td>38472.0</td>\n",
       "      <td>21788.0</td>\n",
       "      <td>37461.0</td>\n",
       "      <td>26110.0</td>\n",
       "      <td>16634.0</td>\n",
       "      <td>28689.0</td>\n",
       "      <td>31704.0</td>\n",
       "      <td>22483.0</td>\n",
       "      <td>25493.0</td>\n",
       "      <td>24182.0</td>\n",
       "    </tr>\n",
       "    <tr>\n",
       "      <th>mean</th>\n",
       "      <td>2003.0</td>\n",
       "      <td>3.0</td>\n",
       "      <td>553.0</td>\n",
       "      <td>51.0</td>\n",
       "      <td>65.0</td>\n",
       "      <td>73.0</td>\n",
       "      <td>13.0</td>\n",
       "      <td>164.0</td>\n",
       "      <td>1423.0</td>\n",
       "      <td>789.0</td>\n",
       "    </tr>\n",
       "    <tr>\n",
       "      <th>std</th>\n",
       "      <td>20.0</td>\n",
       "      <td>0.0</td>\n",
       "      <td>545.0</td>\n",
       "      <td>52.0</td>\n",
       "      <td>64.0</td>\n",
       "      <td>19.0</td>\n",
       "      <td>6.0</td>\n",
       "      <td>85.0</td>\n",
       "      <td>173.0</td>\n",
       "      <td>105.0</td>\n",
       "    </tr>\n",
       "    <tr>\n",
       "      <th>min</th>\n",
       "      <td>1894.0</td>\n",
       "      <td>1.0</td>\n",
       "      <td>25.0</td>\n",
       "      <td>0.0</td>\n",
       "      <td>2.0</td>\n",
       "      <td>1.0</td>\n",
       "      <td>0.0</td>\n",
       "      <td>15.0</td>\n",
       "      <td>725.0</td>\n",
       "      <td>39.0</td>\n",
       "    </tr>\n",
       "    <tr>\n",
       "      <th>25%</th>\n",
       "      <td>2000.0</td>\n",
       "      <td>3.0</td>\n",
       "      <td>125.0</td>\n",
       "      <td>12.0</td>\n",
       "      <td>12.0</td>\n",
       "      <td>57.0</td>\n",
       "      <td>8.0</td>\n",
       "      <td>105.0</td>\n",
       "      <td>1321.0</td>\n",
       "      <td>743.0</td>\n",
       "    </tr>\n",
       "    <tr>\n",
       "      <th>50%</th>\n",
       "      <td>2010.0</td>\n",
       "      <td>3.0</td>\n",
       "      <td>397.0</td>\n",
       "      <td>30.0</td>\n",
       "      <td>57.0</td>\n",
       "      <td>73.0</td>\n",
       "      <td>14.0</td>\n",
       "      <td>145.0</td>\n",
       "      <td>1422.0</td>\n",
       "      <td>790.0</td>\n",
       "    </tr>\n",
       "    <tr>\n",
       "      <th>75%</th>\n",
       "      <td>2016.0</td>\n",
       "      <td>4.0</td>\n",
       "      <td>805.0</td>\n",
       "      <td>77.0</td>\n",
       "      <td>102.0</td>\n",
       "      <td>88.0</td>\n",
       "      <td>18.0</td>\n",
       "      <td>200.0</td>\n",
       "      <td>1500.0</td>\n",
       "      <td>830.0</td>\n",
       "    </tr>\n",
       "    <tr>\n",
       "      <th>max</th>\n",
       "      <td>2022.0</td>\n",
       "      <td>5.0</td>\n",
       "      <td>8277.0</td>\n",
       "      <td>804.0</td>\n",
       "      <td>712.0</td>\n",
       "      <td>176.0</td>\n",
       "      <td>64.0</td>\n",
       "      <td>1000.0</td>\n",
       "      <td>3327.0</td>\n",
       "      <td>7501.0</td>\n",
       "    </tr>\n",
       "  </tbody>\n",
       "</table>\n",
       "</div>"
      ],
      "text/plain": [
       "          Year   Rating  Displacement (ccm)  Power (hp)  Torque (Nm)  \\\n",
       "count  38472.0  21788.0             37461.0     26110.0      16634.0   \n",
       "mean    2003.0      3.0               553.0        51.0         65.0   \n",
       "std       20.0      0.0               545.0        52.0         64.0   \n",
       "min     1894.0      1.0                25.0         0.0          2.0   \n",
       "25%     2000.0      3.0               125.0        12.0         12.0   \n",
       "50%     2010.0      3.0               397.0        30.0         57.0   \n",
       "75%     2016.0      4.0               805.0        77.0        102.0   \n",
       "max     2022.0      5.0              8277.0       804.0        712.0   \n",
       "\n",
       "       Bore (mm)  Fuel capacity (lts)  Dry weight (kg)  Wheelbase (mm)  \\\n",
       "count    28689.0              31704.0          22483.0         25493.0   \n",
       "mean        73.0                 13.0            164.0          1423.0   \n",
       "std         19.0                  6.0             85.0           173.0   \n",
       "min          1.0                  0.0             15.0           725.0   \n",
       "25%         57.0                  8.0            105.0          1321.0   \n",
       "50%         73.0                 14.0            145.0          1422.0   \n",
       "75%         88.0                 18.0            200.0          1500.0   \n",
       "max        176.0                 64.0           1000.0          3327.0   \n",
       "\n",
       "       Seat height (mm)  \n",
       "count           24182.0  \n",
       "mean              789.0  \n",
       "std               105.0  \n",
       "min                39.0  \n",
       "25%               743.0  \n",
       "50%               790.0  \n",
       "75%               830.0  \n",
       "max              7501.0  "
      ]
     },
     "execution_count": 13,
     "metadata": {},
     "output_type": "execute_result"
    }
   ],
   "source": [
    "df.describe().round()"
   ]
  },
  {
   "cell_type": "code",
   "execution_count": 14,
   "id": "38398ab1",
   "metadata": {},
   "outputs": [
    {
     "data": {
      "text/plain": [
       "Brand                      0\n",
       "Model                     28\n",
       "Year                       0\n",
       "Category                   0\n",
       "Rating                 16684\n",
       "Displacement (ccm)      1011\n",
       "Power (hp)             12362\n",
       "Torque (Nm)            21838\n",
       "Engine cylinder           11\n",
       "Engine stroke             11\n",
       "Gearbox                 5797\n",
       "Bore (mm)               9783\n",
       "Stroke (mm)             9783\n",
       "Fuel capacity (lts)     6768\n",
       "Fuel system            10628\n",
       "Fuel control           16464\n",
       "Cooling system          4214\n",
       "Transmission type       5611\n",
       "Dry weight (kg)        15989\n",
       "Wheelbase (mm)         12979\n",
       "Seat height (mm)       14290\n",
       "Front brakes            1583\n",
       "Rear brakes             1776\n",
       "Front tire              6490\n",
       "Rear tire               6464\n",
       "Front suspension       12363\n",
       "Rear suspension        12847\n",
       "Color options          14144\n",
       "dtype: int64"
      ]
     },
     "execution_count": 14,
     "metadata": {},
     "output_type": "execute_result"
    }
   ],
   "source": [
    "df.isna().sum()"
   ]
  },
  {
   "cell_type": "code",
   "execution_count": 15,
   "id": "158dfc16",
   "metadata": {},
   "outputs": [
    {
     "data": {
      "text/plain": [
       "<AxesSubplot:>"
      ]
     },
     "execution_count": 15,
     "metadata": {},
     "output_type": "execute_result"
    },
    {
     "data": {
      "image/png": "[encoded data removed]",
      "text/plain": [
       "<Figure size 432x288 with 2 Axes>"
      ]
     },
     "metadata": {
      "needs_background": "light"
     },
     "output_type": "display_data"
    }
   ],
   "source": [
    "sns.heatmap(df.isna())"
   ]
  },
  {
   "cell_type": "code",
   "execution_count": 16,
   "id": "9e621259",
   "metadata": {},
   "outputs": [],
   "source": [
    "df=df.dropna()"
   ]
  },
  {
   "cell_type": "code",
   "execution_count": 17,
   "id": "f7be8fbc",
   "metadata": {},
   "outputs": [
    {
     "data": {
      "text/plain": [
       "<AxesSubplot:>"
      ]
     },
     "execution_count": 17,
     "metadata": {},
     "output_type": "execute_result"
    },
    {
     "data": {
      "image/png": "[encoded data removed]",
      "text/plain": [
       "<Figure size 432x288 with 2 Axes>"
      ]
     },
     "metadata": {
      "needs_background": "light"
     },
     "output_type": "display_data"
    }
   ],
   "source": [
    "sns.heatmap(df.isna())"
   ]
  },
  {
   "cell_type": "code",
   "execution_count": 21,
   "id": "9afe374d",
   "metadata": {},
   "outputs": [
    {
     "data": {
      "text/plain": [
       "yamaha             3414\n",
       "honda              3318\n",
       "suzuki             2440\n",
       "kawasaki           2320\n",
       "harley-davidson    1636\n",
       "                   ... \n",
       "casal                 1\n",
       "mm                    1\n",
       "werner                1\n",
       "dandy                 1\n",
       "clarke                1\n",
       "Name: Brand, Length: 576, dtype: int64"
      ]
     },
     "execution_count": 21,
     "metadata": {},
     "output_type": "execute_result"
    }
   ],
   "source": [
    "df['Brand'].value_counts()"
   ]
  },
  {
   "cell_type": "code",
   "execution_count": 27,
   "id": "e144b27c",
   "metadata": {},
   "outputs": [
    {
     "data": {
      "text/plain": [
       "<BarContainer object of 10 artists>"
      ]
     },
     "execution_count": 27,
     "metadata": {},
     "output_type": "execute_result"
    },
    {
     "data": {
      "image/png": "[encoded data removed]",
      "text/plain": [
       "<Figure size 1440x1152 with 1 Axes>"
      ]
     },
     "metadata": {
      "needs_background": "light"
     },
     "output_type": "display_data"
    }
   ],
   "source": [
    "name=df['Brand'].value_counts().index[:10]\n",
    "value=df['Brand'].value_counts().values[:10]\n",
    "plt.figure(figsize=(20,16))\n",
    "plt.title(\"Brand names\")\n",
    "plt.bar(name,value,linewidth=0.4,color='green',width=0.7)"
   ]
  },
  {
   "cell_type": "code",
   "execution_count": 24,
   "id": "44143b74",
   "metadata": {},
   "outputs": [
    {
     "data": {
      "text/plain": [
       "servi-car ge         38\n",
       "chief                32\n",
       "speed twin           28\n",
       "rt 2                 27\n",
       "vh 500 red hunter    27\n",
       "                     ..\n",
       "trv 700 s gt          1\n",
       "sm 50 s               1\n",
       "hyper 280             1\n",
       "sr 500 gold           1\n",
       "lx 350                1\n",
       "Name: Model, Length: 17731, dtype: int64"
      ]
     },
     "execution_count": 24,
     "metadata": {},
     "output_type": "execute_result"
    }
   ],
   "source": [
    "df['Model'].value_counts()"
   ]
  },
  {
   "cell_type": "code",
   "execution_count": 26,
   "id": "79ba1bb4",
   "metadata": {},
   "outputs": [
    {
     "data": {
      "text/plain": [
       "<BarContainer object of 10 artists>"
      ]
     },
     "execution_count": 26,
     "metadata": {},
     "output_type": "execute_result"
    },
    {
     "data": {
      "image/png": "[encoded data removed]",
      "text/plain": [
       "<Figure size 1440x1152 with 1 Axes>"
      ]
     },
     "metadata": {
      "needs_background": "light"
     },
     "output_type": "display_data"
    }
   ],
   "source": [
    "name=df['Model'].value_counts().index[:10]\n",
    "value=df['Model'].value_counts().values[:10]\n",
    "plt.figure(figsize=(20,16))\n",
    "plt.title(\"Model names\")\n",
    "plt.bar(name,value,linewidth=0.4,color='red',width=0.7)"
   ]
  },
  {
   "cell_type": "code",
   "execution_count": 28,
   "id": "d2c41f4d",
   "metadata": {},
   "outputs": [
    {
     "data": {
      "text/plain": [
       "2010    1988\n",
       "2016    1823\n",
       "2011    1817\n",
       "2008    1688\n",
       "2009    1677\n",
       "        ... \n",
       "1896       3\n",
       "1905       3\n",
       "1895       2\n",
       "1898       2\n",
       "1894       1\n",
       "Name: Year, Length: 129, dtype: int64"
      ]
     },
     "execution_count": 28,
     "metadata": {},
     "output_type": "execute_result"
    }
   ],
   "source": [
    "df['Year'].value_counts()"
   ]
  },
  {
   "cell_type": "code",
   "execution_count": 32,
   "id": "8cd9513b",
   "metadata": {},
   "outputs": [
    {
     "data": {
      "text/plain": [
       "<BarContainer object of 10 artists>"
      ]
     },
     "execution_count": 32,
     "metadata": {},
     "output_type": "execute_result"
    },
    {
     "data": {
      "image/png": "[encoded data removed]",
      "text/plain": [
       "<Figure size 1440x1152 with 1 Axes>"
      ]
     },
     "metadata": {
      "needs_background": "light"
     },
     "output_type": "display_data"
    }
   ],
   "source": [
    "name=df['Year'].value_counts().index[:10]\n",
    "value=df['Year'].value_counts().values[:10]\n",
    "plt.figure(figsize=(20,16))\n",
    "plt.title(\"Year names\")\n",
    "plt.bar(name,value,linewidth=0.4,width=0.7)"
   ]
  },
  {
   "cell_type": "code",
   "execution_count": 30,
   "id": "ac18ef47",
   "metadata": {},
   "outputs": [
    {
     "data": {
      "text/plain": [
       "<AxesSubplot:>"
      ]
     },
     "execution_count": 30,
     "metadata": {},
     "output_type": "execute_result"
    },
    {
     "data": {
      "image/png": "[encoded data removed]",
      "text/plain": [
       "<Figure size 720x432 with 1 Axes>"
      ]
     },
     "metadata": {
      "needs_background": "light"
     },
     "output_type": "display_data"
    }
   ],
   "source": [
    "plt.figure(figsize=(10,6))\n",
    "df['Year'].value_counts().sort_index().plot()"
   ]
  },
  {
   "cell_type": "code",
   "execution_count": 31,
   "id": "c5b2fd48",
   "metadata": {},
   "outputs": [
    {
     "data": {
      "text/plain": [
       "Scooter                      6669\n",
       "Sport                        5552\n",
       "Enduro / offroad             4267\n",
       "Custom / cruiser             4160\n",
       "Naked bike                   3242\n",
       "Allround                     3141\n",
       "Classic                      1883\n",
       "Super motard                 1634\n",
       "Touring                      1573\n",
       "ATV                          1481\n",
       "Sport touring                1364\n",
       "Cross / motocross            1243\n",
       "Unspecified category          805\n",
       "Trial                         558\n",
       "Minibike, cross               529\n",
       "Prototype / concept model     209\n",
       "Minibike, sport               141\n",
       "Speedway                       21\n",
       "Name: Category, dtype: int64"
      ]
     },
     "execution_count": 31,
     "metadata": {},
     "output_type": "execute_result"
    }
   ],
   "source": [
    "df['Category'].value_counts()"
   ]
  },
  {
   "cell_type": "code",
   "execution_count": 50,
   "id": "cb1dde73",
   "metadata": {},
   "outputs": [
    {
     "data": {
      "text/plain": [
       "<BarContainer object of 10 artists>"
      ]
     },
     "execution_count": 50,
     "metadata": {},
     "output_type": "execute_result"
    },
    {
     "data": {
      "image/png": "[encoded data removed]",
      "text/plain": [
       "<Figure size 1440x1152 with 1 Axes>"
      ]
     },
     "metadata": {
      "needs_background": "light"
     },
     "output_type": "display_data"
    }
   ],
   "source": [
    "name=df['Category'].value_counts().index[:10]\n",
    "value=df['Category'].value_counts().values[:10]\n",
    "plt.figure(figsize=(20,16))\n",
    "plt.title(\"Category names\")\n",
    "plt.bar(name,value,linewidth=0.4,color='black',width=0.7)"
   ]
  },
  {
   "cell_type": "code",
   "execution_count": 35,
   "id": "9f0bab40",
   "metadata": {},
   "outputs": [
    {
     "data": {
      "text/plain": [
       "3.5    2517\n",
       "3.6    2462\n",
       "3.4    2457\n",
       "3.3    2134\n",
       "3.7    2099\n",
       "3.2    1839\n",
       "3.8    1658\n",
       "3.1    1422\n",
       "3.0    1131\n",
       "3.9    1065\n",
       "2.9     737\n",
       "2.8     537\n",
       "4.0     513\n",
       "2.7     355\n",
       "2.6     223\n",
       "4.1     187\n",
       "2.5     141\n",
       "2.4      81\n",
       "2.3      63\n",
       "2.2      35\n",
       "4.2      28\n",
       "2.1      27\n",
       "2.0      23\n",
       "4.3      17\n",
       "1.8      11\n",
       "1.9      10\n",
       "1.7       4\n",
       "4.4       3\n",
       "1.6       3\n",
       "1.5       2\n",
       "1.4       2\n",
       "4.5       1\n",
       "4.6       1\n",
       "Name: Rating, dtype: int64"
      ]
     },
     "execution_count": 35,
     "metadata": {},
     "output_type": "execute_result"
    }
   ],
   "source": [
    "df['Rating'].value_counts()"
   ]
  },
  {
   "cell_type": "code",
   "execution_count": 36,
   "id": "e28e0759",
   "metadata": {},
   "outputs": [
    {
     "data": {
      "text/plain": [
       "<AxesSubplot:>"
      ]
     },
     "execution_count": 36,
     "metadata": {},
     "output_type": "execute_result"
    },
    {
     "data": {
      "image/png": "[encoded data removed]",
      "text/plain": [
       "<Figure size 432x288 with 1 Axes>"
      ]
     },
     "metadata": {
      "needs_background": "light"
     },
     "output_type": "display_data"
    }
   ],
   "source": [
    "df['Rating'].hist()"
   ]
  },
  {
   "cell_type": "code",
   "execution_count": 37,
   "id": "f8dc0a3d",
   "metadata": {},
   "outputs": [
    {
     "data": {
      "text/plain": [
       "Single cylinder         20685\n",
       "V2                       7444\n",
       "Twin                     3388\n",
       "In-line four             3169\n",
       "Electric                  979\n",
       "Two cylinder boxer        936\n",
       "In-line three             852\n",
       "V4                        459\n",
       "Six cylinder boxer        137\n",
       "In-line six               114\n",
       "V8                         79\n",
       "Four cylinder boxer        53\n",
       "V6                         42\n",
       "Diesel                     37\n",
       "Square four cylinder       33\n",
       "Gas turbine                19\n",
       "Dual disk Wankel           13\n",
       "Radial                     10\n",
       "Single disk Wankel          8\n",
       "V3                          3\n",
       "V10                         1\n",
       "Name: Engine cylinder, dtype: int64"
      ]
     },
     "execution_count": 37,
     "metadata": {},
     "output_type": "execute_result"
    }
   ],
   "source": [
    "df['Engine cylinder'].value_counts()"
   ]
  },
  {
   "cell_type": "code",
   "execution_count": 49,
   "id": "b8e72ff5",
   "metadata": {},
   "outputs": [
    {
     "data": {
      "text/plain": [
       "<BarContainer object of 10 artists>"
      ]
     },
     "execution_count": 49,
     "metadata": {},
     "output_type": "execute_result"
    },
    {
     "data": {
      "image/png": "[encoded data removed]",
      "text/plain": [
       "<Figure size 1440x1152 with 1 Axes>"
      ]
     },
     "metadata": {
      "needs_background": "light"
     },
     "output_type": "display_data"
    }
   ],
   "source": [
    "name=df['Engine cylinder'].value_counts().index[:10]\n",
    "value=df['Engine cylinder'].value_counts().values[:10]\n",
    "plt.figure(figsize=(20,16))\n",
    "plt.title(\"Engine cylinder names\")\n",
    "plt.bar(name,value,linewidth=0.4,color='brown',width=0.7)"
   ]
  },
  {
   "cell_type": "code",
   "execution_count": 40,
   "id": "818d8221",
   "metadata": {},
   "outputs": [
    {
     "data": {
      "text/plain": [
       " four-stroke            30678\n",
       " two-stroke              6684\n",
       "Electric                  979\n",
       "Diesel                     37\n",
       "Square four cylinder       33\n",
       "Gas turbine                19\n",
       "Dual disk Wankel           13\n",
       "Radial                     10\n",
       "Single disk Wankel          8\n",
       "Name: Engine stroke, dtype: int64"
      ]
     },
     "execution_count": 40,
     "metadata": {},
     "output_type": "execute_result"
    }
   ],
   "source": [
    "df['Engine stroke'].value_counts()"
   ]
  },
  {
   "cell_type": "code",
   "execution_count": 48,
   "id": "9b05641d",
   "metadata": {},
   "outputs": [
    {
     "data": {
      "text/plain": [
       "<BarContainer object of 9 artists>"
      ]
     },
     "execution_count": 48,
     "metadata": {},
     "output_type": "execute_result"
    },
    {
     "data": {
      "image/png": "[encoded data removed]",
      "text/plain": [
       "<Figure size 1440x1152 with 1 Axes>"
      ]
     },
     "metadata": {
      "needs_background": "light"
     },
     "output_type": "display_data"
    }
   ],
   "source": [
    "name=df['Engine stroke'].value_counts().index[:10]\n",
    "value=df['Engine stroke'].value_counts().values[:10]\n",
    "plt.figure(figsize=(20,16))\n",
    "plt.title(\"Engine stroke names\")\n",
    "plt.bar(name,value,linewidth=0.4,color='yellow',width=0.7)"
   ]
  },
  {
   "cell_type": "code",
   "execution_count": 45,
   "id": "5469f7bc",
   "metadata": {},
   "outputs": [
    {
     "data": {
      "text/plain": [
       "Single disc                                                              13840\n",
       "Expanding brake (drum brake)                                              3901\n",
       "Double disc                                                               3050\n",
       "Dual disc                                                                 2777\n",
       "Expanding brake                                                            972\n",
       "                                                                         ...  \n",
       "Double disc. Wilwood 4 Piston Caliper                                        1\n",
       "Double disc. ABS. Radial mounted monoblock four-piston brake caliper.        1\n",
       "Single disc. Single piston floating                                          1\n",
       "Single disc. radial pump and Brembo caliper                                  1\n",
       "Double disc. Radial caliper Brembo 4-Pistons, 4-Pads                         1\n",
       "Name: Front brakes, Length: 2040, dtype: int64"
      ]
     },
     "execution_count": 45,
     "metadata": {},
     "output_type": "execute_result"
    }
   ],
   "source": [
    "df['Front brakes'].value_counts()"
   ]
  },
  {
   "cell_type": "code",
   "execution_count": 47,
   "id": "968b4abe",
   "metadata": {},
   "outputs": [
    {
     "data": {
      "text/plain": [
       "<BarContainer object of 10 artists>"
      ]
     },
     "execution_count": 47,
     "metadata": {},
     "output_type": "execute_result"
    },
    {
     "data": {
      "image/png": "[encoded data removed]",
      "text/plain": [
       "<Figure size 1440x1152 with 1 Axes>"
      ]
     },
     "metadata": {
      "needs_background": "light"
     },
     "output_type": "display_data"
    }
   ],
   "source": [
    "name=df['Front brakes'].value_counts().index[:10]\n",
    "value=df['Front brakes'].value_counts().values[:10]\n",
    "plt.figure(figsize=(20,16))\n",
    "plt.title(\"Front brakes names\")\n",
    "plt.bar(name,value,linewidth=0.4,color='red',width=0.7)"
   ]
  },
  {
   "cell_type": "code",
   "execution_count": 51,
   "id": "a59b160f",
   "metadata": {},
   "outputs": [
    {
     "data": {
      "text/plain": [
       "<bound method IndexOpsMixin.value_counts of 0                         Single disc\n",
       "1                                 NaN\n",
       "2                         Single disc\n",
       "3                         Single disc\n",
       "4                                 NaN\n",
       "                     ...             \n",
       "38467                             NaN\n",
       "38468    Expanding brake (drum brake)\n",
       "38469    Expanding brake (drum brake)\n",
       "38470    Expanding brake (drum brake)\n",
       "38471    Expanding brake (drum brake)\n",
       "Name: Rear brakes, Length: 38472, dtype: object>"
      ]
     },
     "execution_count": 51,
     "metadata": {},
     "output_type": "execute_result"
    }
   ],
   "source": [
    "df['Rear brakes'].value_counts"
   ]
  },
  {
   "cell_type": "code",
   "execution_count": 52,
   "id": "3a18d015",
   "metadata": {},
   "outputs": [
    {
     "data": {
      "text/plain": [
       "<BarContainer object of 10 artists>"
      ]
     },
     "execution_count": 52,
     "metadata": {},
     "output_type": "execute_result"
    },
    {
     "data": {
      "image/png": "[encoded data removed]",
      "text/plain": [
       "<Figure size 1440x1152 with 1 Axes>"
      ]
     },
     "metadata": {
      "needs_background": "light"
     },
     "output_type": "display_data"
    }
   ],
   "source": [
    "name=df['Front brakes'].value_counts().index[:10]\n",
    "value=df['Front brakes'].value_counts().values[:10]\n",
    "plt.figure(figsize=(20,16))\n",
    "plt.title(\"Front brakes names\")\n",
    "plt.bar(name,value,linewidth=0.4,color='orange',width=0.7)"
   ]
  },
  {
   "cell_type": "code",
   "execution_count": 53,
   "id": "38d4ac49",
   "metadata": {},
   "outputs": [
    {
     "data": {
      "text/html": [
       "<div>\n",
       "<style scoped>\n",
       "    .dataframe tbody tr th:only-of-type {\n",
       "        vertical-align: middle;\n",
       "    }\n",
       "\n",
       "    .dataframe tbody tr th {\n",
       "        vertical-align: top;\n",
       "    }\n",
       "\n",
       "    .dataframe thead th {\n",
       "        text-align: right;\n",
       "    }\n",
       "</style>\n",
       "<table border=\"1\" class=\"dataframe\">\n",
       "  <thead>\n",
       "    <tr style=\"text-align: right;\">\n",
       "      <th></th>\n",
       "      <th>Brand</th>\n",
       "      <th>Model</th>\n",
       "      <th>Year</th>\n",
       "      <th>Category</th>\n",
       "      <th>Rating</th>\n",
       "      <th>Displacement (ccm)</th>\n",
       "      <th>Power (hp)</th>\n",
       "      <th>Torque (Nm)</th>\n",
       "      <th>Engine cylinder</th>\n",
       "      <th>Engine stroke</th>\n",
       "      <th>...</th>\n",
       "      <th>Dry weight (kg)</th>\n",
       "      <th>Wheelbase (mm)</th>\n",
       "      <th>Seat height (mm)</th>\n",
       "      <th>Front brakes</th>\n",
       "      <th>Rear brakes</th>\n",
       "      <th>Front tire</th>\n",
       "      <th>Rear tire</th>\n",
       "      <th>Front suspension</th>\n",
       "      <th>Rear suspension</th>\n",
       "      <th>Color options</th>\n",
       "    </tr>\n",
       "  </thead>\n",
       "  <tbody>\n",
       "    <tr>\n",
       "      <th>0</th>\n",
       "      <td>acabion</td>\n",
       "      <td>da vinci 650-vi</td>\n",
       "      <td>2011</td>\n",
       "      <td>Prototype / concept model</td>\n",
       "      <td>3.2</td>\n",
       "      <td>NaN</td>\n",
       "      <td>804.0</td>\n",
       "      <td>NaN</td>\n",
       "      <td>Electric</td>\n",
       "      <td>Electric</td>\n",
       "      <td>...</td>\n",
       "      <td>420.0</td>\n",
       "      <td>NaN</td>\n",
       "      <td>NaN</td>\n",
       "      <td>Single disc</td>\n",
       "      <td>Single disc</td>\n",
       "      <td>NaN</td>\n",
       "      <td>NaN</td>\n",
       "      <td>NaN</td>\n",
       "      <td>NaN</td>\n",
       "      <td>NaN</td>\n",
       "    </tr>\n",
       "    <tr>\n",
       "      <th>1</th>\n",
       "      <td>acabion</td>\n",
       "      <td>gtbo 55</td>\n",
       "      <td>2007</td>\n",
       "      <td>Sport</td>\n",
       "      <td>2.6</td>\n",
       "      <td>1300.0</td>\n",
       "      <td>541.0</td>\n",
       "      <td>420.0</td>\n",
       "      <td>In-line four</td>\n",
       "      <td>four-stroke</td>\n",
       "      <td>...</td>\n",
       "      <td>360.0</td>\n",
       "      <td>NaN</td>\n",
       "      <td>NaN</td>\n",
       "      <td>NaN</td>\n",
       "      <td>NaN</td>\n",
       "      <td>NaN</td>\n",
       "      <td>NaN</td>\n",
       "      <td>NaN</td>\n",
       "      <td>NaN</td>\n",
       "      <td>NaN</td>\n",
       "    </tr>\n",
       "    <tr>\n",
       "      <th>2</th>\n",
       "      <td>acabion</td>\n",
       "      <td>gtbo 600 daytona-vi</td>\n",
       "      <td>2011</td>\n",
       "      <td>Prototype / concept model</td>\n",
       "      <td>3.5</td>\n",
       "      <td>NaN</td>\n",
       "      <td>536.0</td>\n",
       "      <td>NaN</td>\n",
       "      <td>Electric</td>\n",
       "      <td>Electric</td>\n",
       "      <td>...</td>\n",
       "      <td>420.0</td>\n",
       "      <td>NaN</td>\n",
       "      <td>NaN</td>\n",
       "      <td>Single disc</td>\n",
       "      <td>Single disc</td>\n",
       "      <td>NaN</td>\n",
       "      <td>NaN</td>\n",
       "      <td>NaN</td>\n",
       "      <td>NaN</td>\n",
       "      <td>NaN</td>\n",
       "    </tr>\n",
       "    <tr>\n",
       "      <th>3</th>\n",
       "      <td>acabion</td>\n",
       "      <td>gtbo 600 daytona-vi</td>\n",
       "      <td>2021</td>\n",
       "      <td>Prototype / concept model</td>\n",
       "      <td>NaN</td>\n",
       "      <td>NaN</td>\n",
       "      <td>536.0</td>\n",
       "      <td>NaN</td>\n",
       "      <td>Electric</td>\n",
       "      <td>Electric</td>\n",
       "      <td>...</td>\n",
       "      <td>420.0</td>\n",
       "      <td>NaN</td>\n",
       "      <td>NaN</td>\n",
       "      <td>Single disc</td>\n",
       "      <td>Single disc</td>\n",
       "      <td>NaN</td>\n",
       "      <td>NaN</td>\n",
       "      <td>NaN</td>\n",
       "      <td>NaN</td>\n",
       "      <td>NaN</td>\n",
       "    </tr>\n",
       "    <tr>\n",
       "      <th>4</th>\n",
       "      <td>acabion</td>\n",
       "      <td>gtbo 70</td>\n",
       "      <td>2007</td>\n",
       "      <td>Prototype / concept model</td>\n",
       "      <td>3.1</td>\n",
       "      <td>1300.0</td>\n",
       "      <td>689.0</td>\n",
       "      <td>490.0</td>\n",
       "      <td>In-line four</td>\n",
       "      <td>four-stroke</td>\n",
       "      <td>...</td>\n",
       "      <td>300.0</td>\n",
       "      <td>NaN</td>\n",
       "      <td>NaN</td>\n",
       "      <td>NaN</td>\n",
       "      <td>NaN</td>\n",
       "      <td>NaN</td>\n",
       "      <td>NaN</td>\n",
       "      <td>NaN</td>\n",
       "      <td>NaN</td>\n",
       "      <td>Custom made.</td>\n",
       "    </tr>\n",
       "    <tr>\n",
       "      <th>...</th>\n",
       "      <td>...</td>\n",
       "      <td>...</td>\n",
       "      <td>...</td>\n",
       "      <td>...</td>\n",
       "      <td>...</td>\n",
       "      <td>...</td>\n",
       "      <td>...</td>\n",
       "      <td>...</td>\n",
       "      <td>...</td>\n",
       "      <td>...</td>\n",
       "      <td>...</td>\n",
       "      <td>...</td>\n",
       "      <td>...</td>\n",
       "      <td>...</td>\n",
       "      <td>...</td>\n",
       "      <td>...</td>\n",
       "      <td>...</td>\n",
       "      <td>...</td>\n",
       "      <td>...</td>\n",
       "      <td>...</td>\n",
       "      <td>...</td>\n",
       "    </tr>\n",
       "    <tr>\n",
       "      <th>38467</th>\n",
       "      <td>zündapp</td>\n",
       "      <td>z 22</td>\n",
       "      <td>1924</td>\n",
       "      <td>Sport</td>\n",
       "      <td>NaN</td>\n",
       "      <td>211.0</td>\n",
       "      <td>2.3</td>\n",
       "      <td>NaN</td>\n",
       "      <td>Single cylinder</td>\n",
       "      <td>two-stroke</td>\n",
       "      <td>...</td>\n",
       "      <td>NaN</td>\n",
       "      <td>NaN</td>\n",
       "      <td>NaN</td>\n",
       "      <td>NaN</td>\n",
       "      <td>NaN</td>\n",
       "      <td>2.25-24</td>\n",
       "      <td>2.25-24</td>\n",
       "      <td>Druid  fork</td>\n",
       "      <td>Rigid</td>\n",
       "      <td>NaN</td>\n",
       "    </tr>\n",
       "    <tr>\n",
       "      <th>38468</th>\n",
       "      <td>zündapp</td>\n",
       "      <td>z 249</td>\n",
       "      <td>1923</td>\n",
       "      <td>Sport</td>\n",
       "      <td>NaN</td>\n",
       "      <td>249.0</td>\n",
       "      <td>2.8</td>\n",
       "      <td>NaN</td>\n",
       "      <td>Single cylinder</td>\n",
       "      <td>two-stroke</td>\n",
       "      <td>...</td>\n",
       "      <td>76.0</td>\n",
       "      <td>NaN</td>\n",
       "      <td>NaN</td>\n",
       "      <td>Expanding brake (drum brake)</td>\n",
       "      <td>Expanding brake (drum brake)</td>\n",
       "      <td>2.25-24</td>\n",
       "      <td>2.25-24</td>\n",
       "      <td>Druid  fork</td>\n",
       "      <td>Rigid</td>\n",
       "      <td>NaN</td>\n",
       "    </tr>\n",
       "    <tr>\n",
       "      <th>38469</th>\n",
       "      <td>zündapp</td>\n",
       "      <td>z 249</td>\n",
       "      <td>1924</td>\n",
       "      <td>Sport</td>\n",
       "      <td>NaN</td>\n",
       "      <td>249.0</td>\n",
       "      <td>2.8</td>\n",
       "      <td>NaN</td>\n",
       "      <td>Single cylinder</td>\n",
       "      <td>two-stroke</td>\n",
       "      <td>...</td>\n",
       "      <td>76.0</td>\n",
       "      <td>NaN</td>\n",
       "      <td>NaN</td>\n",
       "      <td>Expanding brake (drum brake)</td>\n",
       "      <td>Expanding brake (drum brake)</td>\n",
       "      <td>2.25-24</td>\n",
       "      <td>2.25-24</td>\n",
       "      <td>Druid  fork</td>\n",
       "      <td>Rigid</td>\n",
       "      <td>NaN</td>\n",
       "    </tr>\n",
       "    <tr>\n",
       "      <th>38470</th>\n",
       "      <td>zündapp</td>\n",
       "      <td>z 300</td>\n",
       "      <td>1928</td>\n",
       "      <td>Sport</td>\n",
       "      <td>NaN</td>\n",
       "      <td>298.0</td>\n",
       "      <td>26.0</td>\n",
       "      <td>NaN</td>\n",
       "      <td>Single cylinder</td>\n",
       "      <td>two-stroke</td>\n",
       "      <td>...</td>\n",
       "      <td>105.0</td>\n",
       "      <td>NaN</td>\n",
       "      <td>NaN</td>\n",
       "      <td>Expanding brake (drum brake)</td>\n",
       "      <td>Expanding brake (drum brake)</td>\n",
       "      <td>2.85-26</td>\n",
       "      <td>2.85-26</td>\n",
       "      <td>NaN</td>\n",
       "      <td>NaN</td>\n",
       "      <td>NaN</td>\n",
       "    </tr>\n",
       "    <tr>\n",
       "      <th>38471</th>\n",
       "      <td>zündapp</td>\n",
       "      <td>z 300</td>\n",
       "      <td>1929</td>\n",
       "      <td>Sport</td>\n",
       "      <td>NaN</td>\n",
       "      <td>298.0</td>\n",
       "      <td>26.0</td>\n",
       "      <td>NaN</td>\n",
       "      <td>Single cylinder</td>\n",
       "      <td>two-stroke</td>\n",
       "      <td>...</td>\n",
       "      <td>105.0</td>\n",
       "      <td>NaN</td>\n",
       "      <td>NaN</td>\n",
       "      <td>Expanding brake (drum brake)</td>\n",
       "      <td>Expanding brake (drum brake)</td>\n",
       "      <td>2.85-26</td>\n",
       "      <td>2.85-26</td>\n",
       "      <td>NaN</td>\n",
       "      <td>NaN</td>\n",
       "      <td>NaN</td>\n",
       "    </tr>\n",
       "  </tbody>\n",
       "</table>\n",
       "<p>38472 rows × 28 columns</p>\n",
       "</div>"
      ],
      "text/plain": [
       "         Brand                Model  Year                   Category  Rating  \\\n",
       "0      acabion      da vinci 650-vi  2011  Prototype / concept model     3.2   \n",
       "1      acabion              gtbo 55  2007                      Sport     2.6   \n",
       "2      acabion  gtbo 600 daytona-vi  2011  Prototype / concept model     3.5   \n",
       "3      acabion  gtbo 600 daytona-vi  2021  Prototype / concept model     NaN   \n",
       "4      acabion              gtbo 70  2007  Prototype / concept model     3.1   \n",
       "...        ...                  ...   ...                        ...     ...   \n",
       "38467  zündapp                 z 22  1924                      Sport     NaN   \n",
       "38468  zündapp                z 249  1923                      Sport     NaN   \n",
       "38469  zündapp                z 249  1924                      Sport     NaN   \n",
       "38470  zündapp                z 300  1928                      Sport     NaN   \n",
       "38471  zündapp                z 300  1929                      Sport     NaN   \n",
       "\n",
       "       Displacement (ccm)  Power (hp)  Torque (Nm)  Engine cylinder  \\\n",
       "0                     NaN       804.0          NaN         Electric   \n",
       "1                  1300.0       541.0        420.0     In-line four   \n",
       "2                     NaN       536.0          NaN         Electric   \n",
       "3                     NaN       536.0          NaN         Electric   \n",
       "4                  1300.0       689.0        490.0     In-line four   \n",
       "...                   ...         ...          ...              ...   \n",
       "38467               211.0         2.3          NaN  Single cylinder   \n",
       "38468               249.0         2.8          NaN  Single cylinder   \n",
       "38469               249.0         2.8          NaN  Single cylinder   \n",
       "38470               298.0        26.0          NaN  Single cylinder   \n",
       "38471               298.0        26.0          NaN  Single cylinder   \n",
       "\n",
       "      Engine stroke  ... Dry weight (kg)  Wheelbase (mm) Seat height (mm)  \\\n",
       "0          Electric  ...           420.0             NaN              NaN   \n",
       "1       four-stroke  ...           360.0             NaN              NaN   \n",
       "2          Electric  ...           420.0             NaN              NaN   \n",
       "3          Electric  ...           420.0             NaN              NaN   \n",
       "4       four-stroke  ...           300.0             NaN              NaN   \n",
       "...             ...  ...             ...             ...              ...   \n",
       "38467    two-stroke  ...             NaN             NaN              NaN   \n",
       "38468    two-stroke  ...            76.0             NaN              NaN   \n",
       "38469    two-stroke  ...            76.0             NaN              NaN   \n",
       "38470    two-stroke  ...           105.0             NaN              NaN   \n",
       "38471    two-stroke  ...           105.0             NaN              NaN   \n",
       "\n",
       "                       Front brakes                   Rear brakes Front tire  \\\n",
       "0                       Single disc                   Single disc        NaN   \n",
       "1                               NaN                           NaN        NaN   \n",
       "2                       Single disc                   Single disc        NaN   \n",
       "3                       Single disc                   Single disc        NaN   \n",
       "4                               NaN                           NaN        NaN   \n",
       "...                             ...                           ...        ...   \n",
       "38467                           NaN                           NaN   2.25-24    \n",
       "38468  Expanding brake (drum brake)  Expanding brake (drum brake)   2.25-24    \n",
       "38469  Expanding brake (drum brake)  Expanding brake (drum brake)   2.25-24    \n",
       "38470  Expanding brake (drum brake)  Expanding brake (drum brake)   2.85-26    \n",
       "38471  Expanding brake (drum brake)  Expanding brake (drum brake)   2.85-26    \n",
       "\n",
       "      Rear tire Front suspension  Rear suspension  Color options  \n",
       "0           NaN              NaN              NaN            NaN  \n",
       "1           NaN              NaN              NaN            NaN  \n",
       "2           NaN              NaN              NaN            NaN  \n",
       "3           NaN              NaN              NaN            NaN  \n",
       "4           NaN              NaN              NaN   Custom made.  \n",
       "...         ...              ...              ...            ...  \n",
       "38467  2.25-24       Druid  fork            Rigid            NaN  \n",
       "38468  2.25-24       Druid  fork            Rigid            NaN  \n",
       "38469  2.25-24       Druid  fork            Rigid            NaN  \n",
       "38470  2.85-26               NaN              NaN            NaN  \n",
       "38471  2.85-26               NaN              NaN            NaN  \n",
       "\n",
       "[38472 rows x 28 columns]"
      ]
     },
     "execution_count": 53,
     "metadata": {},
     "output_type": "execute_result"
    }
   ],
   "source": [
    "df"
   ]
  },
  {
   "cell_type": "code",
   "execution_count": 59,
   "id": "01736479",
   "metadata": {},
   "outputs": [],
   "source": [
    "df.drop(['Brand','Model','Year','Category','Engine cylinder','Engine stroke','Color options'],axis=1,inplace=True)"
   ]
  },
  {
   "cell_type": "code",
   "execution_count": 61,
   "id": "016a8202",
   "metadata": {},
   "outputs": [],
   "source": [
    "df.drop(['Gearbox','Fuel capacity (lts)','Fuel system','Fuel system','Fuel control','Transmission type',],axis=1,inplace=True)"
   ]
  },
  {
   "cell_type": "code",
   "execution_count": 64,
   "id": "6cbc66aa",
   "metadata": {},
   "outputs": [],
   "source": [
    "df.drop(['Cooling system','Wheelbase (mm)','Seat height (mm)','Front brakes','Rear brakes','Front suspension'],axis=1,inplace=True)"
   ]
  },
  {
   "cell_type": "code",
   "execution_count": null,
   "id": "3852d681",
   "metadata": {},
   "outputs": [],
   "source": []
  },
  {
   "cell_type": "code",
   "execution_count": 87,
   "id": "a3181634",
   "metadata": {},
   "outputs": [
    {
     "data": {
      "image/png": "[encoded data removed]",
      "text/plain": [
       "<Figure size 1440x1152 with 6 Axes>"
      ]
     },
     "metadata": {
      "needs_background": "light"
     },
     "output_type": "display_data"
    }
   ],
   "source": [
    "df.hist(figsize=(20,16))\n",
    "plt.show()"
   ]
  },
  {
   "cell_type": "code",
   "execution_count": 117,
   "id": "80a75bb7",
   "metadata": {},
   "outputs": [
    {
     "data": {
      "text/plain": [
       "<AxesSubplot:>"
      ]
     },
     "execution_count": 117,
     "metadata": {},
     "output_type": "execute_result"
    },
    {
     "data": {
      "image/png": "[encoded data removed]",
      "text/plain": [
       "<Figure size 720x504 with 2 Axes>"
      ]
     },
     "metadata": {
      "needs_background": "light"
     },
     "output_type": "display_data"
    }
   ],
   "source": [
    "plt.figure(figsize=(10,7))\n",
    "sns.heatmap(df.corr(),annot=True,fmt='.1f')"
   ]
  },
  {
   "cell_type": "code",
   "execution_count": null,
   "id": "1cac961d",
   "metadata": {},
   "outputs": [],
   "source": []
  }
 ],
 "metadata": {
  "kernelspec": {
   "display_name": "Python 3",
   "language": "python",
   "name": "python3"
  },
  "language_info": {
   "codemirror_mode": {
    "name": "ipython",
    "version": 3
   },
   "file_extension": ".py",
   "mimetype": "text/x-python",
   "name": "python",
   "nbconvert_exporter": "python",
   "pygments_lexer": "ipython3",
   "version": "3.8.8"
  }
 },
 "nbformat": 4,
 "nbformat_minor": 5
}
